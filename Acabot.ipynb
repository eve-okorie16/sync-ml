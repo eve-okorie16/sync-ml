{
  "nbformat": 4,
  "nbformat_minor": 0,
  "metadata": {
    "colab": {
      "provenance": [],
      "toc_visible": true,
      "authorship_tag": "ABX9TyO7ZflIwhi5T1QoGe6O0ZwT",
      "include_colab_link": true
    },
    "kernelspec": {
      "name": "python3",
      "display_name": "Python 3"
    },
    "language_info": {
      "name": "python"
    }
  },
  "cells": [
    {
      "cell_type": "markdown",
      "metadata": {
        "id": "view-in-github",
        "colab_type": "text"
      },
      "source": [
        "<a href=\"https://colab.research.google.com/github/eve-okorie16/sync-ml/blob/main/Acabot.ipynb\" target=\"_parent\"><img src=\"https://colab.research.google.com/assets/colab-badge.svg\" alt=\"Open In Colab\"/></a>"
      ]
    },
    {
      "cell_type": "markdown",
      "source": [
        "Acabot is an educational chatbot to help students understand the dos and donts of academic writing. Most times students a left in the dark on how to go about their academic writing gig. this is a simple chatbot built with python to help them using machine learning model."
      ],
      "metadata": {
        "id": "bn3B_6wMYG3c"
      }
    },
    {
      "cell_type": "code",
      "source": [
        "pip install nltk #downloading the nlp tool kit"
      ],
      "metadata": {
        "id": "_rW-5SSXYZPK"
      },
      "execution_count": null,
      "outputs": []
    },
    {
      "cell_type": "code",
      "source": [
        "#importing the required libraries\n",
        "import numpy as np\n",
        "import nltk\n",
        "import string\n",
        "import random"
      ],
      "metadata": {
        "id": "bjy6gTHfi7gN"
      },
      "execution_count": null,
      "outputs": []
    },
    {
      "cell_type": "code",
      "source": [
        "#importing and processing the data\n",
        "f=open('acabot.txt', 'r', errors = 'ignore')\n",
        "raw_doc = f.read()\n",
        "raw_doc = raw_doc.lower()\n",
        "nltk.download('punkt')\n",
        "nltk.download('wordnet')\n",
        "sent_tokens = nltk.sent_tokenize(raw_doc)\n",
        "word_tokens = nltk.word_tokenize(raw_doc)"
      ],
      "metadata": {
        "id": "flHNncp1jOeC"
      },
      "execution_count": null,
      "outputs": []
    },
    {
      "cell_type": "code",
      "source": [
        "sent_tokens[:2]"
      ],
      "metadata": {
        "id": "wvDW9elopuaA"
      },
      "execution_count": null,
      "outputs": []
    },
    {
      "cell_type": "code",
      "source": [
        "word_tokens[:2]"
      ],
      "metadata": {
        "id": "6DxBfa1zrDwU",
        "colab": {
          "base_uri": "https://localhost:8080/"
        },
        "outputId": "ac850764-f884-4971-bdf4-98333ea34af7"
      },
      "execution_count": null,
      "outputs": [
        {
          "output_type": "execute_result",
          "data": {
            "text/plain": [
              "['academic', 'writing']"
            ]
          },
          "metadata": {},
          "execution_count": 58
        }
      ]
    },
    {
      "cell_type": "code",
      "source": [
        "#text preprocessing using lemmatization\n",
        "lemmer = nltk.stem.WordNetLemmatizer()\n",
        "def LemTokens(tokens):\n",
        "  return [lemmer.lemmatize(token) for token in tokens]\n",
        "remove_punct_dict = dict((ord(punct), None) for punct in string.punctuation)\n",
        "def LemNormalize(text):\n",
        "  return LemTokens(nltk.word_tokenize(text.lower().translate(remove_punct_dict)))\n"
      ],
      "metadata": {
        "id": "_nJKO3EWqZ7e"
      },
      "execution_count": 70,
      "outputs": []
    },
    {
      "cell_type": "code",
      "source": [
        "GREET_INPUTS = (\"Hello\", \"Hi\", \"Howdy\", \"Sup\", \"Hey\",)\n",
        "GREET_RESPONSES = [\"Hi\", \"Hey\", \"Hello\", \"How may i help you\", \"Hey you\",]\n",
        "def greet(sentence):\n",
        "\n",
        "    for word in sentence.split():\n",
        "        if word.lower() in GREET_INPUTS:\n",
        "           return random.choice(GREET_RESPONSES)"
      ],
      "metadata": {
        "id": "UcVOxF4vylNV"
      },
      "execution_count": null,
      "outputs": []
    },
    {
      "cell_type": "code",
      "source": [
        "from sklearn.feature_extraction.text import TfidfVectorizer\n",
        "from sklearn.metrics.pairwise import cosine_similarity"
      ],
      "metadata": {
        "id": "n1mLyJZf2K_k"
      },
      "execution_count": null,
      "outputs": []
    },
    {
      "cell_type": "code",
      "source": [
        "#vectorization\n",
        "def response(user_response):\n",
        "  robo1_response=\"\"\n",
        "  TfidfVec = TfidfVectorizer(tokenizer=LemNormalize, stop_words='english')\n",
        "  tfidf = TfidfVec.fit_transform(sent_tokens)\n",
        "  vals = cosine_similarity(tfidf[-1], tfidf)\n",
        "  idx=vals.argsort()[0][-2]\n",
        "  flat = vals.flatten()\n",
        "  flat.sort()\n",
        "  req_tfidf = [-2]\n",
        "  if(req_tfidf==0):\n",
        "    robo1_response=robo1_response+\"Sorry, I don't understand you\"\n",
        "    return robo1_response\n",
        "  else:\n",
        "    robo1_response = robo1_response+sent_tokens[idx]\n",
        "    return robo1_response\n"
      ],
      "metadata": {
        "id": "HoQVt8Wn0-fj"
      },
      "execution_count": null,
      "outputs": []
    },
    {
      "cell_type": "code",
      "source": [
        "flag=True\n",
        "print(\"BOT: My name is Acadia. Let's have a talk! If you want to exit chat, type bye\")\n",
        "while(flag==True):\n",
        "  user_response = input()\n",
        "  user_response=user_response.lower()\n",
        "  if(user_response!=\"bye\"):\n",
        "      if(user_response==\"thanks\" or user_response==\"thank you\" ):\n",
        "            flag=False\n",
        "            print(\"BOT: You are welcome..\")\n",
        "      else:\n",
        "          if(greet(user_response)!what=None):\n",
        "              print(\"BOT: \"+greet(user_response))\n",
        "\n",
        "          else:\n",
        "              sent_tokens.append(user_response)\n",
        "              word_tokens=word_tokens+nltk.word_tokenize(user_response)\n",
        "              final_words=list(set(word_tokens))\n",
        "              print(\"BOT: \",end=\"\")\n",
        "              print(response(user_response))\n",
        "              sent_tokens.remove(user_response)\n",
        "  else:\n",
        "      flag=False\n",
        "      print(\"BOT: Goodbye! take care \")\n"
      ],
      "metadata": {
        "id": "ywwepZd2ii9u",
        "colab": {
          "base_uri": "https://localhost:8080/"
        },
        "outputId": "c8551821-eae9-4a40-986b-6a9aa88a5908"
      },
      "execution_count": null,
      "outputs": [
        {
          "metadata": {
            "tags": null
          },
          "name": "stdout",
          "output_type": "stream",
          "text": [
            "BOT: My name is Acadia. Let's have a talk! If you want to exit chat, type bye\n"
          ]
        }
      ]
    }
  ]
}